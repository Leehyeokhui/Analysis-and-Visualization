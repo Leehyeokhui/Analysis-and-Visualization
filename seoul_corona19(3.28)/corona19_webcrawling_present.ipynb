{
 "cells": [
  {
   "cell_type": "code",
   "execution_count": 1,
   "metadata": {},
   "outputs": [],
   "source": [
    "import pandas as pd\n",
    "import requests"
   ]
  },
  {
   "cell_type": "code",
   "execution_count": 2,
   "metadata": {
    "scrolled": true
   },
   "outputs": [
    {
     "data": {
      "text/plain": [
       "'https://news.seoul.go.kr/api/27/getCorona19Status/get_status_ajax_pre.php?draw=7&columns%5B0%5D%5Bdata%5D=0&columns%5B0%5D%5Bname%5D=&columns%5B0%5D%5Bsearchable%5D=true&columns%5B0%5D%5Borderable%5D=true&columns%5B0%5D%5Bsearch%5D%5Bvalue%5D=&columns%5B0%5D%5Bsearch%5D%5Bregex%5D=false&columns%5B1%5D%5Bdata%5D=1&columns%5B1%5D%5Bname%5D=&columns%5B1%5D%5Bsearchable%5D=true&columns%5B1%5D%5Borderable%5D=true&columns%5B1%5D%5Bsearch%5D%5Bvalue%5D=&columns%5B1%5D%5Bsearch%5D%5Bregex%5D=false&columns%5B2%5D%5Bdata%5D=2&columns%5B2%5D%5Bname%5D=&columns%5B2%5D%5Bsearchable%5D=true&columns%5B2%5D%5Borderable%5D=true&columns%5B2%5D%5Bsearch%5D%5Bvalue%5D=&columns%5B2%5D%5Bsearch%5D%5Bregex%5D=false&columns%5B3%5D%5Bdata%5D=3&columns%5B3%5D%5Bname%5D=&columns%5B3%5D%5Bsearchable%5D=true&columns%5B3%5D%5Borderable%5D=true&columns%5B3%5D%5Bsearch%5D%5Bvalue%5D=&columns%5B3%5D%5Bsearch%5D%5Bregex%5D=false&columns%5B4%5D%5Bdata%5D=4&columns%5B4%5D%5Bname%5D=&columns%5B4%5D%5Bsearchable%5D=true&columns%5B4%5D%5Borderable%5D=true&columns%5B4%5D%5Bsearch%5D%5Bvalue%5D=&columns%5B4%5D%5Bsearch%5D%5Bregex%5D=false&columns%5B5%5D%5Bdata%5D=5&columns%5B5%5D%5Bname%5D=&columns%5B5%5D%5Bsearchable%5D=true&columns%5B5%5D%5Borderable%5D=true&columns%5B5%5D%5Bsearch%5D%5Bvalue%5D=&columns%5B5%5D%5Bsearch%5D%5Bregex%5D=false&columns%5B6%5D%5Bdata%5D=6&columns%5B6%5D%5Bname%5D=&columns%5B6%5D%5Bsearchable%5D=true&columns%5B6%5D%5Borderable%5D=true&columns%5B6%5D%5Bsearch%5D%5Bvalue%5D=&columns%5B6%5D%5Bsearch%5D%5Bregex%5D=false&order%5B0%5D%5Bcolumn%5D=0&order%5B0%5D%5Bdir%5D=desc&start=0&length=100&search%5Bvalue%5D=&search%5Bregex%5D=true&_=1616898468079'"
      ]
     },
     "execution_count": 2,
     "metadata": {},
     "output_type": "execute_result"
    }
   ],
   "source": [
    "# 1번부터 20000번까지\n",
    "\n",
    "url1 = \"https://news.seoul.go.kr/api/27/getCorona19Status/get_status_ajax_pre.php?draw=7&columns%5B0%5D%5Bdata%5D=0&columns%5B0%5D%5Bname%5D=&columns%5B0%5D%5Bsearchable%5D=true&columns%5B0%5D%5Borderable%5D=true&columns%5B0%5D%5Bsearch%5D%5Bvalue%5D=&columns%5B0%5D%5Bsearch%5D%5Bregex%5D=false&columns%5B1%5D%5Bdata%5D=1&columns%5B1%5D%5Bname%5D=&columns%5B1%5D%5Bsearchable%5D=true&columns%5B1%5D%5Borderable%5D=true&columns%5B1%5D%5Bsearch%5D%5Bvalue%5D=&columns%5B1%5D%5Bsearch%5D%5Bregex%5D=false&columns%5B2%5D%5Bdata%5D=2&columns%5B2%5D%5Bname%5D=&columns%5B2%5D%5Bsearchable%5D=true&columns%5B2%5D%5Borderable%5D=true&columns%5B2%5D%5Bsearch%5D%5Bvalue%5D=&columns%5B2%5D%5Bsearch%5D%5Bregex%5D=false&columns%5B3%5D%5Bdata%5D=3&columns%5B3%5D%5Bname%5D=&columns%5B3%5D%5Bsearchable%5D=true&columns%5B3%5D%5Borderable%5D=true&columns%5B3%5D%5Bsearch%5D%5Bvalue%5D=&columns%5B3%5D%5Bsearch%5D%5Bregex%5D=false&columns%5B4%5D%5Bdata%5D=4&columns%5B4%5D%5Bname%5D=&columns%5B4%5D%5Bsearchable%5D=true&columns%5B4%5D%5Borderable%5D=true&columns%5B4%5D%5Bsearch%5D%5Bvalue%5D=&columns%5B4%5D%5Bsearch%5D%5Bregex%5D=false&columns%5B5%5D%5Bdata%5D=5&columns%5B5%5D%5Bname%5D=&columns%5B5%5D%5Bsearchable%5D=true&columns%5B5%5D%5Borderable%5D=true&columns%5B5%5D%5Bsearch%5D%5Bvalue%5D=&columns%5B5%5D%5Bsearch%5D%5Bregex%5D=false&columns%5B6%5D%5Bdata%5D=6&columns%5B6%5D%5Bname%5D=&columns%5B6%5D%5Bsearchable%5D=true&columns%5B6%5D%5Borderable%5D=true&columns%5B6%5D%5Bsearch%5D%5Bvalue%5D=&columns%5B6%5D%5Bsearch%5D%5Bregex%5D=false&order%5B0%5D%5Bcolumn%5D=0&order%5B0%5D%5Bdir%5D=desc&start=0&length=100&search%5Bvalue%5D=&search%5Bregex%5D=true&_=1616898468079\"\n",
    "url1"
   ]
  },
  {
   "cell_type": "code",
   "execution_count": 3,
   "metadata": {},
   "outputs": [
    {
     "data": {
      "text/plain": [
       "'https://news.seoul.go.kr/api/27/getCorona19Status/get_status_ajax.php?draw=6&columns%5B0%5D%5Bdata%5D=0&columns%5B0%5D%5Bname%5D=&columns%5B0%5D%5Bsearchable%5D=true&columns%5B0%5D%5Borderable%5D=true&columns%5B0%5D%5Bsearch%5D%5Bvalue%5D=&columns%5B0%5D%5Bsearch%5D%5Bregex%5D=false&columns%5B1%5D%5Bdata%5D=1&columns%5B1%5D%5Bname%5D=&columns%5B1%5D%5Bsearchable%5D=true&columns%5B1%5D%5Borderable%5D=true&columns%5B1%5D%5Bsearch%5D%5Bvalue%5D=&columns%5B1%5D%5Bsearch%5D%5Bregex%5D=false&columns%5B2%5D%5Bdata%5D=2&columns%5B2%5D%5Bname%5D=&columns%5B2%5D%5Bsearchable%5D=true&columns%5B2%5D%5Borderable%5D=true&columns%5B2%5D%5Bsearch%5D%5Bvalue%5D=&columns%5B2%5D%5Bsearch%5D%5Bregex%5D=false&columns%5B3%5D%5Bdata%5D=3&columns%5B3%5D%5Bname%5D=&columns%5B3%5D%5Bsearchable%5D=true&columns%5B3%5D%5Borderable%5D=true&columns%5B3%5D%5Bsearch%5D%5Bvalue%5D=&columns%5B3%5D%5Bsearch%5D%5Bregex%5D=false&columns%5B4%5D%5Bdata%5D=4&columns%5B4%5D%5Bname%5D=&columns%5B4%5D%5Bsearchable%5D=true&columns%5B4%5D%5Borderable%5D=true&columns%5B4%5D%5Bsearch%5D%5Bvalue%5D=&columns%5B4%5D%5Bsearch%5D%5Bregex%5D=false&columns%5B5%5D%5Bdata%5D=5&columns%5B5%5D%5Bname%5D=&columns%5B5%5D%5Bsearchable%5D=true&columns%5B5%5D%5Borderable%5D=true&columns%5B5%5D%5Bsearch%5D%5Bvalue%5D=&columns%5B5%5D%5Bsearch%5D%5Bregex%5D=false&columns%5B6%5D%5Bdata%5D=6&columns%5B6%5D%5Bname%5D=&columns%5B6%5D%5Bsearchable%5D=true&columns%5B6%5D%5Borderable%5D=true&columns%5B6%5D%5Bsearch%5D%5Bvalue%5D=&columns%5B6%5D%5Bsearch%5D%5Bregex%5D=false&order%5B0%5D%5Bcolumn%5D=0&order%5B0%5D%5Bdir%5D=desc&start=0&length=100&search%5Bvalue%5D=&search%5Bregex%5D=true&_=1616898468072'"
      ]
     },
     "execution_count": 3,
     "metadata": {},
     "output_type": "execute_result"
    }
   ],
   "source": [
    "# 20001번부터 끝까지\n",
    "\n",
    "url2 = \"https://news.seoul.go.kr/api/27/getCorona19Status/get_status_ajax.php?draw=6&columns%5B0%5D%5Bdata%5D=0&columns%5B0%5D%5Bname%5D=&columns%5B0%5D%5Bsearchable%5D=true&columns%5B0%5D%5Borderable%5D=true&columns%5B0%5D%5Bsearch%5D%5Bvalue%5D=&columns%5B0%5D%5Bsearch%5D%5Bregex%5D=false&columns%5B1%5D%5Bdata%5D=1&columns%5B1%5D%5Bname%5D=&columns%5B1%5D%5Bsearchable%5D=true&columns%5B1%5D%5Borderable%5D=true&columns%5B1%5D%5Bsearch%5D%5Bvalue%5D=&columns%5B1%5D%5Bsearch%5D%5Bregex%5D=false&columns%5B2%5D%5Bdata%5D=2&columns%5B2%5D%5Bname%5D=&columns%5B2%5D%5Bsearchable%5D=true&columns%5B2%5D%5Borderable%5D=true&columns%5B2%5D%5Bsearch%5D%5Bvalue%5D=&columns%5B2%5D%5Bsearch%5D%5Bregex%5D=false&columns%5B3%5D%5Bdata%5D=3&columns%5B3%5D%5Bname%5D=&columns%5B3%5D%5Bsearchable%5D=true&columns%5B3%5D%5Borderable%5D=true&columns%5B3%5D%5Bsearch%5D%5Bvalue%5D=&columns%5B3%5D%5Bsearch%5D%5Bregex%5D=false&columns%5B4%5D%5Bdata%5D=4&columns%5B4%5D%5Bname%5D=&columns%5B4%5D%5Bsearchable%5D=true&columns%5B4%5D%5Borderable%5D=true&columns%5B4%5D%5Bsearch%5D%5Bvalue%5D=&columns%5B4%5D%5Bsearch%5D%5Bregex%5D=false&columns%5B5%5D%5Bdata%5D=5&columns%5B5%5D%5Bname%5D=&columns%5B5%5D%5Bsearchable%5D=true&columns%5B5%5D%5Borderable%5D=true&columns%5B5%5D%5Bsearch%5D%5Bvalue%5D=&columns%5B5%5D%5Bsearch%5D%5Bregex%5D=false&columns%5B6%5D%5Bdata%5D=6&columns%5B6%5D%5Bname%5D=&columns%5B6%5D%5Bsearchable%5D=true&columns%5B6%5D%5Borderable%5D=true&columns%5B6%5D%5Bsearch%5D%5Bvalue%5D=&columns%5B6%5D%5Bsearch%5D%5Bregex%5D=false&order%5B0%5D%5Bcolumn%5D=0&order%5B0%5D%5Bdir%5D=desc&start=0&length=100&search%5Bvalue%5D=&search%5Bregex%5D=true&_=1616898468072\"\n",
    "url2"
   ]
  },
  {
   "cell_type": "code",
   "execution_count": 4,
   "metadata": {},
   "outputs": [
    {
     "data": {
      "text/html": [
       "<div>\n",
       "<style scoped>\n",
       "    .dataframe tbody tr th:only-of-type {\n",
       "        vertical-align: middle;\n",
       "    }\n",
       "\n",
       "    .dataframe tbody tr th {\n",
       "        vertical-align: top;\n",
       "    }\n",
       "\n",
       "    .dataframe thead th {\n",
       "        text-align: right;\n",
       "    }\n",
       "</style>\n",
       "<table border=\"1\" class=\"dataframe\">\n",
       "  <thead>\n",
       "    <tr style=\"text-align: right;\">\n",
       "      <th></th>\n",
       "      <th>0</th>\n",
       "      <th>1</th>\n",
       "      <th>2</th>\n",
       "      <th>3</th>\n",
       "      <th>4</th>\n",
       "      <th>5</th>\n",
       "      <th>6</th>\n",
       "    </tr>\n",
       "  </thead>\n",
       "  <tbody>\n",
       "    <tr>\n",
       "      <th>0</th>\n",
       "      <td>&lt;p class='corona19_no'&gt;31624&lt;/p&gt;</td>\n",
       "      <td>101749</td>\n",
       "      <td>2021-03-27</td>\n",
       "      <td>타시도</td>\n",
       "      <td>-</td>\n",
       "      <td>감염경로 조사중</td>\n",
       "      <td>&lt;b class=''&gt;&lt;/b&gt;</td>\n",
       "    </tr>\n",
       "    <tr>\n",
       "      <th>1</th>\n",
       "      <td>&lt;p class='corona19_no'&gt;31623&lt;/p&gt;</td>\n",
       "      <td>101745</td>\n",
       "      <td>2021-03-27</td>\n",
       "      <td>광진구</td>\n",
       "      <td>-</td>\n",
       "      <td>기타 확진자 접촉</td>\n",
       "      <td>&lt;b class=''&gt;&lt;/b&gt;</td>\n",
       "    </tr>\n",
       "    <tr>\n",
       "      <th>2</th>\n",
       "      <td>&lt;p class='corona19_no'&gt;31622&lt;/p&gt;</td>\n",
       "      <td>101744</td>\n",
       "      <td>2021-03-27</td>\n",
       "      <td>광진구</td>\n",
       "      <td>-</td>\n",
       "      <td>기타 확진자 접촉</td>\n",
       "      <td>&lt;b class=''&gt;&lt;/b&gt;</td>\n",
       "    </tr>\n",
       "    <tr>\n",
       "      <th>3</th>\n",
       "      <td>&lt;p class='corona19_no'&gt;31621&lt;/p&gt;</td>\n",
       "      <td>101725</td>\n",
       "      <td>2021-03-27</td>\n",
       "      <td>동작구</td>\n",
       "      <td>-</td>\n",
       "      <td>감염경로 조사중</td>\n",
       "      <td>&lt;b class=''&gt;&lt;/b&gt;</td>\n",
       "    </tr>\n",
       "    <tr>\n",
       "      <th>4</th>\n",
       "      <td>&lt;p class='corona19_no'&gt;31620&lt;/p&gt;</td>\n",
       "      <td>101727</td>\n",
       "      <td>2021-03-27</td>\n",
       "      <td>타시도</td>\n",
       "      <td>-</td>\n",
       "      <td>타시도 확진자 접촉</td>\n",
       "      <td>&lt;b class=''&gt;&lt;/b&gt;</td>\n",
       "    </tr>\n",
       "    <tr>\n",
       "      <th>...</th>\n",
       "      <td>...</td>\n",
       "      <td>...</td>\n",
       "      <td>...</td>\n",
       "      <td>...</td>\n",
       "      <td>...</td>\n",
       "      <td>...</td>\n",
       "      <td>...</td>\n",
       "    </tr>\n",
       "    <tr>\n",
       "      <th>95</th>\n",
       "      <td>&lt;p class='corona19_no'&gt;31529&lt;/p&gt;</td>\n",
       "      <td>101367</td>\n",
       "      <td>2021-03-27</td>\n",
       "      <td>노원구</td>\n",
       "      <td>-</td>\n",
       "      <td>타시도 확진자 접촉</td>\n",
       "      <td>&lt;b class='status2'&gt;&lt;/b&gt;</td>\n",
       "    </tr>\n",
       "    <tr>\n",
       "      <th>96</th>\n",
       "      <td>&lt;p class='corona19_no'&gt;31528&lt;/p&gt;</td>\n",
       "      <td>101583</td>\n",
       "      <td>2021-03-27</td>\n",
       "      <td>종로구</td>\n",
       "      <td>-</td>\n",
       "      <td>타시도 확진자 접촉</td>\n",
       "      <td>&lt;b class='status2'&gt;&lt;/b&gt;</td>\n",
       "    </tr>\n",
       "    <tr>\n",
       "      <th>97</th>\n",
       "      <td>&lt;p class='corona19_no'&gt;31527&lt;/p&gt;</td>\n",
       "      <td>101720</td>\n",
       "      <td>2021-03-27</td>\n",
       "      <td>서초구</td>\n",
       "      <td>-</td>\n",
       "      <td>기타 확진자 접촉</td>\n",
       "      <td>&lt;b class='status2'&gt;&lt;/b&gt;</td>\n",
       "    </tr>\n",
       "    <tr>\n",
       "      <th>98</th>\n",
       "      <td>&lt;p class='corona19_no'&gt;31526&lt;/p&gt;</td>\n",
       "      <td>101457</td>\n",
       "      <td>2021-03-27</td>\n",
       "      <td>도봉구</td>\n",
       "      <td>-</td>\n",
       "      <td>기타 확진자 접촉</td>\n",
       "      <td>&lt;b class='status2'&gt;&lt;/b&gt;</td>\n",
       "    </tr>\n",
       "    <tr>\n",
       "      <th>99</th>\n",
       "      <td>&lt;p class='corona19_no'&gt;31525&lt;/p&gt;</td>\n",
       "      <td>101452</td>\n",
       "      <td>2021-03-27</td>\n",
       "      <td>동대문구</td>\n",
       "      <td>-</td>\n",
       "      <td>송파구 소재 종교시설 관련('21.3.)</td>\n",
       "      <td>&lt;b class='status2'&gt;&lt;/b&gt;</td>\n",
       "    </tr>\n",
       "  </tbody>\n",
       "</table>\n",
       "<p>100 rows × 7 columns</p>\n",
       "</div>"
      ],
      "text/plain": [
       "                                   0       1           2     3  4  \\\n",
       "0   <p class='corona19_no'>31624</p>  101749  2021-03-27   타시도  -   \n",
       "1   <p class='corona19_no'>31623</p>  101745  2021-03-27   광진구  -   \n",
       "2   <p class='corona19_no'>31622</p>  101744  2021-03-27   광진구  -   \n",
       "3   <p class='corona19_no'>31621</p>  101725  2021-03-27   동작구  -   \n",
       "4   <p class='corona19_no'>31620</p>  101727  2021-03-27   타시도  -   \n",
       "..                               ...     ...         ...   ... ..   \n",
       "95  <p class='corona19_no'>31529</p>  101367  2021-03-27   노원구  -   \n",
       "96  <p class='corona19_no'>31528</p>  101583  2021-03-27   종로구  -   \n",
       "97  <p class='corona19_no'>31527</p>  101720  2021-03-27   서초구  -   \n",
       "98  <p class='corona19_no'>31526</p>  101457  2021-03-27   도봉구  -   \n",
       "99  <p class='corona19_no'>31525</p>  101452  2021-03-27  동대문구  -   \n",
       "\n",
       "                         5                        6  \n",
       "0                 감염경로 조사중         <b class=''></b>  \n",
       "1                기타 확진자 접촉         <b class=''></b>  \n",
       "2                기타 확진자 접촉         <b class=''></b>  \n",
       "3                 감염경로 조사중         <b class=''></b>  \n",
       "4               타시도 확진자 접촉         <b class=''></b>  \n",
       "..                     ...                      ...  \n",
       "95              타시도 확진자 접촉  <b class='status2'></b>  \n",
       "96              타시도 확진자 접촉  <b class='status2'></b>  \n",
       "97               기타 확진자 접촉  <b class='status2'></b>  \n",
       "98               기타 확진자 접촉  <b class='status2'></b>  \n",
       "99  송파구 소재 종교시설 관련('21.3.)  <b class='status2'></b>  \n",
       "\n",
       "[100 rows x 7 columns]"
      ]
     },
     "execution_count": 4,
     "metadata": {},
     "output_type": "execute_result"
    }
   ],
   "source": [
    "respons = requests.get(url2)\n",
    "data_json = respons.json()\n",
    "pd.DataFrame(data_json['data'])"
   ]
  },
  {
   "cell_type": "code",
   "execution_count": 5,
   "metadata": {},
   "outputs": [
    {
     "data": {
      "text/plain": [
       "11624"
      ]
     },
     "execution_count": 5,
     "metadata": {},
     "output_type": "execute_result"
    }
   ],
   "source": [
    "records_total = data_json['recordsTotal']\n",
    "records_total"
   ]
  },
  {
   "cell_type": "code",
   "execution_count": 6,
   "metadata": {},
   "outputs": [
    {
     "data": {
      "text/plain": [
       "117"
      ]
     },
     "execution_count": 6,
     "metadata": {},
     "output_type": "execute_result"
    }
   ],
   "source": [
    "end_page = round(records_total / 100) +1\n",
    "end_page"
   ]
  },
  {
   "cell_type": "code",
   "execution_count": 7,
   "metadata": {},
   "outputs": [
    {
     "data": {
      "text/html": [
       "<div>\n",
       "<style scoped>\n",
       "    .dataframe tbody tr th:only-of-type {\n",
       "        vertical-align: middle;\n",
       "    }\n",
       "\n",
       "    .dataframe tbody tr th {\n",
       "        vertical-align: top;\n",
       "    }\n",
       "\n",
       "    .dataframe thead th {\n",
       "        text-align: right;\n",
       "    }\n",
       "</style>\n",
       "<table border=\"1\" class=\"dataframe\">\n",
       "  <thead>\n",
       "    <tr style=\"text-align: right;\">\n",
       "      <th></th>\n",
       "      <th>0</th>\n",
       "      <th>1</th>\n",
       "      <th>2</th>\n",
       "      <th>3</th>\n",
       "      <th>4</th>\n",
       "      <th>5</th>\n",
       "      <th>6</th>\n",
       "    </tr>\n",
       "  </thead>\n",
       "  <tbody>\n",
       "    <tr>\n",
       "      <th>0</th>\n",
       "      <td>&lt;p class='corona19_no'&gt;31624&lt;/p&gt;</td>\n",
       "      <td>101749</td>\n",
       "      <td>2021-03-27</td>\n",
       "      <td>타시도</td>\n",
       "      <td>-</td>\n",
       "      <td>감염경로 조사중</td>\n",
       "      <td>&lt;b class=''&gt;&lt;/b&gt;</td>\n",
       "    </tr>\n",
       "    <tr>\n",
       "      <th>1</th>\n",
       "      <td>&lt;p class='corona19_no'&gt;31623&lt;/p&gt;</td>\n",
       "      <td>101745</td>\n",
       "      <td>2021-03-27</td>\n",
       "      <td>광진구</td>\n",
       "      <td>-</td>\n",
       "      <td>기타 확진자 접촉</td>\n",
       "      <td>&lt;b class=''&gt;&lt;/b&gt;</td>\n",
       "    </tr>\n",
       "    <tr>\n",
       "      <th>2</th>\n",
       "      <td>&lt;p class='corona19_no'&gt;31622&lt;/p&gt;</td>\n",
       "      <td>101744</td>\n",
       "      <td>2021-03-27</td>\n",
       "      <td>광진구</td>\n",
       "      <td>-</td>\n",
       "      <td>기타 확진자 접촉</td>\n",
       "      <td>&lt;b class=''&gt;&lt;/b&gt;</td>\n",
       "    </tr>\n",
       "    <tr>\n",
       "      <th>3</th>\n",
       "      <td>&lt;p class='corona19_no'&gt;31621&lt;/p&gt;</td>\n",
       "      <td>101725</td>\n",
       "      <td>2021-03-27</td>\n",
       "      <td>동작구</td>\n",
       "      <td>-</td>\n",
       "      <td>감염경로 조사중</td>\n",
       "      <td>&lt;b class=''&gt;&lt;/b&gt;</td>\n",
       "    </tr>\n",
       "    <tr>\n",
       "      <th>4</th>\n",
       "      <td>&lt;p class='corona19_no'&gt;31620&lt;/p&gt;</td>\n",
       "      <td>101727</td>\n",
       "      <td>2021-03-27</td>\n",
       "      <td>타시도</td>\n",
       "      <td>-</td>\n",
       "      <td>타시도 확진자 접촉</td>\n",
       "      <td>&lt;b class=''&gt;&lt;/b&gt;</td>\n",
       "    </tr>\n",
       "    <tr>\n",
       "      <th>...</th>\n",
       "      <td>...</td>\n",
       "      <td>...</td>\n",
       "      <td>...</td>\n",
       "      <td>...</td>\n",
       "      <td>...</td>\n",
       "      <td>...</td>\n",
       "      <td>...</td>\n",
       "    </tr>\n",
       "    <tr>\n",
       "      <th>95</th>\n",
       "      <td>&lt;p class='corona19_no'&gt;31529&lt;/p&gt;</td>\n",
       "      <td>101367</td>\n",
       "      <td>2021-03-27</td>\n",
       "      <td>노원구</td>\n",
       "      <td>-</td>\n",
       "      <td>타시도 확진자 접촉</td>\n",
       "      <td>&lt;b class='status2'&gt;&lt;/b&gt;</td>\n",
       "    </tr>\n",
       "    <tr>\n",
       "      <th>96</th>\n",
       "      <td>&lt;p class='corona19_no'&gt;31528&lt;/p&gt;</td>\n",
       "      <td>101583</td>\n",
       "      <td>2021-03-27</td>\n",
       "      <td>종로구</td>\n",
       "      <td>-</td>\n",
       "      <td>타시도 확진자 접촉</td>\n",
       "      <td>&lt;b class='status2'&gt;&lt;/b&gt;</td>\n",
       "    </tr>\n",
       "    <tr>\n",
       "      <th>97</th>\n",
       "      <td>&lt;p class='corona19_no'&gt;31527&lt;/p&gt;</td>\n",
       "      <td>101720</td>\n",
       "      <td>2021-03-27</td>\n",
       "      <td>서초구</td>\n",
       "      <td>-</td>\n",
       "      <td>기타 확진자 접촉</td>\n",
       "      <td>&lt;b class='status2'&gt;&lt;/b&gt;</td>\n",
       "    </tr>\n",
       "    <tr>\n",
       "      <th>98</th>\n",
       "      <td>&lt;p class='corona19_no'&gt;31526&lt;/p&gt;</td>\n",
       "      <td>101457</td>\n",
       "      <td>2021-03-27</td>\n",
       "      <td>도봉구</td>\n",
       "      <td>-</td>\n",
       "      <td>기타 확진자 접촉</td>\n",
       "      <td>&lt;b class='status2'&gt;&lt;/b&gt;</td>\n",
       "    </tr>\n",
       "    <tr>\n",
       "      <th>99</th>\n",
       "      <td>&lt;p class='corona19_no'&gt;31525&lt;/p&gt;</td>\n",
       "      <td>101452</td>\n",
       "      <td>2021-03-27</td>\n",
       "      <td>동대문구</td>\n",
       "      <td>-</td>\n",
       "      <td>송파구 소재 종교시설 관련('21.3.)</td>\n",
       "      <td>&lt;b class='status2'&gt;&lt;/b&gt;</td>\n",
       "    </tr>\n",
       "  </tbody>\n",
       "</table>\n",
       "<p>100 rows × 7 columns</p>\n",
       "</div>"
      ],
      "text/plain": [
       "                                   0       1           2     3  4  \\\n",
       "0   <p class='corona19_no'>31624</p>  101749  2021-03-27   타시도  -   \n",
       "1   <p class='corona19_no'>31623</p>  101745  2021-03-27   광진구  -   \n",
       "2   <p class='corona19_no'>31622</p>  101744  2021-03-27   광진구  -   \n",
       "3   <p class='corona19_no'>31621</p>  101725  2021-03-27   동작구  -   \n",
       "4   <p class='corona19_no'>31620</p>  101727  2021-03-27   타시도  -   \n",
       "..                               ...     ...         ...   ... ..   \n",
       "95  <p class='corona19_no'>31529</p>  101367  2021-03-27   노원구  -   \n",
       "96  <p class='corona19_no'>31528</p>  101583  2021-03-27   종로구  -   \n",
       "97  <p class='corona19_no'>31527</p>  101720  2021-03-27   서초구  -   \n",
       "98  <p class='corona19_no'>31526</p>  101457  2021-03-27   도봉구  -   \n",
       "99  <p class='corona19_no'>31525</p>  101452  2021-03-27  동대문구  -   \n",
       "\n",
       "                         5                        6  \n",
       "0                 감염경로 조사중         <b class=''></b>  \n",
       "1                기타 확진자 접촉         <b class=''></b>  \n",
       "2                기타 확진자 접촉         <b class=''></b>  \n",
       "3                 감염경로 조사중         <b class=''></b>  \n",
       "4               타시도 확진자 접촉         <b class=''></b>  \n",
       "..                     ...                      ...  \n",
       "95              타시도 확진자 접촉  <b class='status2'></b>  \n",
       "96              타시도 확진자 접촉  <b class='status2'></b>  \n",
       "97               기타 확진자 접촉  <b class='status2'></b>  \n",
       "98               기타 확진자 접촉  <b class='status2'></b>  \n",
       "99  송파구 소재 종교시설 관련('21.3.)  <b class='status2'></b>  \n",
       "\n",
       "[100 rows x 7 columns]"
      ]
     },
     "execution_count": 7,
     "metadata": {},
     "output_type": "execute_result"
    }
   ],
   "source": [
    "data = data_json['data']\n",
    "pd.DataFrame(data)"
   ]
  },
  {
   "cell_type": "code",
   "execution_count": 8,
   "metadata": {},
   "outputs": [],
   "source": [
    "# 한 page씩 가져오는 함수(1~20000)\n",
    "\n",
    "def get_seoul_covid19_1(page_no):\n",
    "    start_no = (page_no - 1) * 100\n",
    "    url = f\"https://news.seoul.go.kr/api/27/getCorona19Status/get_status_ajax_pre.php?draw={page_no}&columns%5B0%5D%5Bdata%5D=0&columns%5B0%5D%5Bname%5D=&columns%5B0%5D%5Bsearchable%5D=true&columns%5B0%5D%5Borderable%5D=true&columns%5B0%5D%5Bsearch%5D%5Bvalue%5D=&columns%5B0%5D%5Bsearch%5D%5Bregex%5D=false&columns%5B1%5D%5Bdata%5D=1&columns%5B1%5D%5Bname%5D=&columns%5B1%5D%5Bsearchable%5D=true&columns%5B1%5D%5Borderable%5D=true&columns%5B1%5D%5Bsearch%5D%5Bvalue%5D=&columns%5B1%5D%5Bsearch%5D%5Bregex%5D=false&columns%5B2%5D%5Bdata%5D=2&columns%5B2%5D%5Bname%5D=&columns%5B2%5D%5Bsearchable%5D=true&columns%5B2%5D%5Borderable%5D=true&columns%5B2%5D%5Bsearch%5D%5Bvalue%5D=&columns%5B2%5D%5Bsearch%5D%5Bregex%5D=false&columns%5B3%5D%5Bdata%5D=3&columns%5B3%5D%5Bname%5D=&columns%5B3%5D%5Bsearchable%5D=true&columns%5B3%5D%5Borderable%5D=true&columns%5B3%5D%5Bsearch%5D%5Bvalue%5D=&columns%5B3%5D%5Bsearch%5D%5Bregex%5D=false&columns%5B4%5D%5Bdata%5D=4&columns%5B4%5D%5Bname%5D=&columns%5B4%5D%5Bsearchable%5D=true&columns%5B4%5D%5Borderable%5D=true&columns%5B4%5D%5Bsearch%5D%5Bvalue%5D=&columns%5B4%5D%5Bsearch%5D%5Bregex%5D=false&columns%5B5%5D%5Bdata%5D=5&columns%5B5%5D%5Bname%5D=&columns%5B5%5D%5Bsearchable%5D=true&columns%5B5%5D%5Borderable%5D=true&columns%5B5%5D%5Bsearch%5D%5Bvalue%5D=&columns%5B5%5D%5Bsearch%5D%5Bregex%5D=false&columns%5B6%5D%5Bdata%5D=6&columns%5B6%5D%5Bname%5D=&columns%5B6%5D%5Bsearchable%5D=true&columns%5B6%5D%5Borderable%5D=true&columns%5B6%5D%5Bsearch%5D%5Bvalue%5D=&columns%5B6%5D%5Bsearch%5D%5Bregex%5D=false&order%5B0%5D%5Bcolumn%5D=0&order%5B0%5D%5Bdir%5D=desc&start={start_no}&length=100&search%5Bvalue%5D=&search%5Bregex%5D=true&_=1616898468079\"\n",
    "    response = requests.get(url)\n",
    "    data_json = response.json()\n",
    "    return data_json"
   ]
  },
  {
   "cell_type": "code",
   "execution_count": 9,
   "metadata": {},
   "outputs": [],
   "source": [
    "# 한 page씩 가져오는 함수(20001~)\n",
    "\n",
    "def get_seoul_covid19_2(page_no):\n",
    "    start_no = (page_no - 1) * 100\n",
    "    url = f\"https://news.seoul.go.kr/api/27/getCorona19Status/get_status_ajax.php?draw={page_no}&columns%5B0%5D%5Bdata%5D=0&columns%5B0%5D%5Bname%5D=&columns%5B0%5D%5Bsearchable%5D=true&columns%5B0%5D%5Borderable%5D=true&columns%5B0%5D%5Bsearch%5D%5Bvalue%5D=&columns%5B0%5D%5Bsearch%5D%5Bregex%5D=false&columns%5B1%5D%5Bdata%5D=1&columns%5B1%5D%5Bname%5D=&columns%5B1%5D%5Bsearchable%5D=true&columns%5B1%5D%5Borderable%5D=true&columns%5B1%5D%5Bsearch%5D%5Bvalue%5D=&columns%5B1%5D%5Bsearch%5D%5Bregex%5D=false&columns%5B2%5D%5Bdata%5D=2&columns%5B2%5D%5Bname%5D=&columns%5B2%5D%5Bsearchable%5D=true&columns%5B2%5D%5Borderable%5D=true&columns%5B2%5D%5Bsearch%5D%5Bvalue%5D=&columns%5B2%5D%5Bsearch%5D%5Bregex%5D=false&columns%5B3%5D%5Bdata%5D=3&columns%5B3%5D%5Bname%5D=&columns%5B3%5D%5Bsearchable%5D=true&columns%5B3%5D%5Borderable%5D=true&columns%5B3%5D%5Bsearch%5D%5Bvalue%5D=&columns%5B3%5D%5Bsearch%5D%5Bregex%5D=false&columns%5B4%5D%5Bdata%5D=4&columns%5B4%5D%5Bname%5D=&columns%5B4%5D%5Bsearchable%5D=true&columns%5B4%5D%5Borderable%5D=true&columns%5B4%5D%5Bsearch%5D%5Bvalue%5D=&columns%5B4%5D%5Bsearch%5D%5Bregex%5D=false&columns%5B5%5D%5Bdata%5D=5&columns%5B5%5D%5Bname%5D=&columns%5B5%5D%5Bsearchable%5D=true&columns%5B5%5D%5Borderable%5D=true&columns%5B5%5D%5Bsearch%5D%5Bvalue%5D=&columns%5B5%5D%5Bsearch%5D%5Bregex%5D=false&columns%5B6%5D%5Bdata%5D=6&columns%5B6%5D%5Bname%5D=&columns%5B6%5D%5Bsearchable%5D=true&columns%5B6%5D%5Borderable%5D=true&columns%5B6%5D%5Bsearch%5D%5Bvalue%5D=&columns%5B6%5D%5Bsearch%5D%5Bregex%5D=false&order%5B0%5D%5Bcolumn%5D=0&order%5B0%5D%5Bdir%5D=desc&start={start_no}&length=100&search%5Bvalue%5D=&search%5Bregex%5D=true&_=1616898468072\"\n",
    "    response = requests.get(url)\n",
    "    data_json = response.json()\n",
    "    return data_json"
   ]
  },
  {
   "cell_type": "code",
   "execution_count": 10,
   "metadata": {},
   "outputs": [],
   "source": [
    "import time\n",
    "from tqdm import trange"
   ]
  },
  {
   "cell_type": "code",
   "execution_count": 11,
   "metadata": {},
   "outputs": [
    {
     "name": "stderr",
     "output_type": "stream",
     "text": [
      "100%|████████████████████████████████████████████████████████████████████████████████████| 4/4 [00:02<00:00,  1.61it/s]\n"
     ]
    }
   ],
   "source": [
    "# 일부 페이지만 가져와서 오류 없는지 확인\n",
    "\n",
    "page_list = []\n",
    "all_page = 3\n",
    "for page_no in trange(all_page + 1):\n",
    "    one_page = get_seoul_covid19_2(page_no)\n",
    "    if len(one_page['data']) > 0:\n",
    "        one_page = pd.DataFrame(one_page['data'])\n",
    "        page_list.append(one_page)\n",
    "# 서버에 부담을 줄 수 잇기 때문에 시차를 둔다\n",
    "        time.sleep(0.5)"
   ]
  },
  {
   "cell_type": "code",
   "execution_count": 12,
   "metadata": {},
   "outputs": [
    {
     "data": {
      "text/html": [
       "<div>\n",
       "<style scoped>\n",
       "    .dataframe tbody tr th:only-of-type {\n",
       "        vertical-align: middle;\n",
       "    }\n",
       "\n",
       "    .dataframe tbody tr th {\n",
       "        vertical-align: top;\n",
       "    }\n",
       "\n",
       "    .dataframe thead th {\n",
       "        text-align: right;\n",
       "    }\n",
       "</style>\n",
       "<table border=\"1\" class=\"dataframe\">\n",
       "  <thead>\n",
       "    <tr style=\"text-align: right;\">\n",
       "      <th></th>\n",
       "      <th>0</th>\n",
       "      <th>1</th>\n",
       "      <th>2</th>\n",
       "      <th>3</th>\n",
       "      <th>4</th>\n",
       "      <th>5</th>\n",
       "      <th>6</th>\n",
       "    </tr>\n",
       "  </thead>\n",
       "  <tbody>\n",
       "    <tr>\n",
       "      <th>0</th>\n",
       "      <td>&lt;p class='corona19_no'&gt;31624&lt;/p&gt;</td>\n",
       "      <td>101749</td>\n",
       "      <td>2021-03-27</td>\n",
       "      <td>타시도</td>\n",
       "      <td>-</td>\n",
       "      <td>감염경로 조사중</td>\n",
       "      <td>&lt;b class=''&gt;&lt;/b&gt;</td>\n",
       "    </tr>\n",
       "    <tr>\n",
       "      <th>1</th>\n",
       "      <td>&lt;p class='corona19_no'&gt;31623&lt;/p&gt;</td>\n",
       "      <td>101745</td>\n",
       "      <td>2021-03-27</td>\n",
       "      <td>광진구</td>\n",
       "      <td>-</td>\n",
       "      <td>기타 확진자 접촉</td>\n",
       "      <td>&lt;b class=''&gt;&lt;/b&gt;</td>\n",
       "    </tr>\n",
       "    <tr>\n",
       "      <th>2</th>\n",
       "      <td>&lt;p class='corona19_no'&gt;31622&lt;/p&gt;</td>\n",
       "      <td>101744</td>\n",
       "      <td>2021-03-27</td>\n",
       "      <td>광진구</td>\n",
       "      <td>-</td>\n",
       "      <td>기타 확진자 접촉</td>\n",
       "      <td>&lt;b class=''&gt;&lt;/b&gt;</td>\n",
       "    </tr>\n",
       "    <tr>\n",
       "      <th>3</th>\n",
       "      <td>&lt;p class='corona19_no'&gt;31621&lt;/p&gt;</td>\n",
       "      <td>101725</td>\n",
       "      <td>2021-03-27</td>\n",
       "      <td>동작구</td>\n",
       "      <td>-</td>\n",
       "      <td>감염경로 조사중</td>\n",
       "      <td>&lt;b class=''&gt;&lt;/b&gt;</td>\n",
       "    </tr>\n",
       "    <tr>\n",
       "      <th>4</th>\n",
       "      <td>&lt;p class='corona19_no'&gt;31620&lt;/p&gt;</td>\n",
       "      <td>101727</td>\n",
       "      <td>2021-03-27</td>\n",
       "      <td>타시도</td>\n",
       "      <td>-</td>\n",
       "      <td>타시도 확진자 접촉</td>\n",
       "      <td>&lt;b class=''&gt;&lt;/b&gt;</td>\n",
       "    </tr>\n",
       "    <tr>\n",
       "      <th>...</th>\n",
       "      <td>...</td>\n",
       "      <td>...</td>\n",
       "      <td>...</td>\n",
       "      <td>...</td>\n",
       "      <td>...</td>\n",
       "      <td>...</td>\n",
       "      <td>...</td>\n",
       "    </tr>\n",
       "    <tr>\n",
       "      <th>95</th>\n",
       "      <td>&lt;p class='corona19_no'&gt;31329&lt;/p&gt;</td>\n",
       "      <td>100614</td>\n",
       "      <td>2021-03-25</td>\n",
       "      <td>서초구</td>\n",
       "      <td>-</td>\n",
       "      <td>서초구 소재 종교시설 관련(\\'21.3.)</td>\n",
       "      <td>&lt;b class=''&gt;&lt;/b&gt;</td>\n",
       "    </tr>\n",
       "    <tr>\n",
       "      <th>96</th>\n",
       "      <td>&lt;p class='corona19_no'&gt;31328&lt;/p&gt;</td>\n",
       "      <td>100624</td>\n",
       "      <td>2021-03-25</td>\n",
       "      <td>강북구</td>\n",
       "      <td>-</td>\n",
       "      <td>타시도 확진자 접촉</td>\n",
       "      <td>&lt;b class=''&gt;&lt;/b&gt;</td>\n",
       "    </tr>\n",
       "    <tr>\n",
       "      <th>97</th>\n",
       "      <td>&lt;p class='corona19_no'&gt;31327&lt;/p&gt;</td>\n",
       "      <td>100587</td>\n",
       "      <td>2021-03-25</td>\n",
       "      <td>마포구</td>\n",
       "      <td>-</td>\n",
       "      <td>영등포구 소재 빌딩 관련</td>\n",
       "      <td>&lt;b class=''&gt;&lt;/b&gt;</td>\n",
       "    </tr>\n",
       "    <tr>\n",
       "      <th>98</th>\n",
       "      <td>&lt;p class='corona19_no'&gt;31326&lt;/p&gt;</td>\n",
       "      <td>100595</td>\n",
       "      <td>2021-03-25</td>\n",
       "      <td>관악구</td>\n",
       "      <td>-</td>\n",
       "      <td>관악구 소재 직장(‘21년 3월(2)) 관련</td>\n",
       "      <td>&lt;b class=''&gt;&lt;/b&gt;</td>\n",
       "    </tr>\n",
       "    <tr>\n",
       "      <th>99</th>\n",
       "      <td>&lt;p class='corona19_no'&gt;31325&lt;/p&gt;</td>\n",
       "      <td>100583</td>\n",
       "      <td>2021-03-25</td>\n",
       "      <td>타시도</td>\n",
       "      <td>-</td>\n",
       "      <td>감염경로 조사중</td>\n",
       "      <td>&lt;b class=''&gt;&lt;/b&gt;</td>\n",
       "    </tr>\n",
       "  </tbody>\n",
       "</table>\n",
       "<p>300 rows × 7 columns</p>\n",
       "</div>"
      ],
      "text/plain": [
       "                                   0       1           2    3  4  \\\n",
       "0   <p class='corona19_no'>31624</p>  101749  2021-03-27  타시도  -   \n",
       "1   <p class='corona19_no'>31623</p>  101745  2021-03-27  광진구  -   \n",
       "2   <p class='corona19_no'>31622</p>  101744  2021-03-27  광진구  -   \n",
       "3   <p class='corona19_no'>31621</p>  101725  2021-03-27  동작구  -   \n",
       "4   <p class='corona19_no'>31620</p>  101727  2021-03-27  타시도  -   \n",
       "..                               ...     ...         ...  ... ..   \n",
       "95  <p class='corona19_no'>31329</p>  100614  2021-03-25  서초구  -   \n",
       "96  <p class='corona19_no'>31328</p>  100624  2021-03-25  강북구  -   \n",
       "97  <p class='corona19_no'>31327</p>  100587  2021-03-25  마포구  -   \n",
       "98  <p class='corona19_no'>31326</p>  100595  2021-03-25  관악구  -   \n",
       "99  <p class='corona19_no'>31325</p>  100583  2021-03-25  타시도  -   \n",
       "\n",
       "                           5                 6  \n",
       "0                   감염경로 조사중  <b class=''></b>  \n",
       "1                  기타 확진자 접촉  <b class=''></b>  \n",
       "2                  기타 확진자 접촉  <b class=''></b>  \n",
       "3                   감염경로 조사중  <b class=''></b>  \n",
       "4                 타시도 확진자 접촉  <b class=''></b>  \n",
       "..                       ...               ...  \n",
       "95   서초구 소재 종교시설 관련(\\'21.3.)  <b class=''></b>  \n",
       "96                타시도 확진자 접촉  <b class=''></b>  \n",
       "97             영등포구 소재 빌딩 관련  <b class=''></b>  \n",
       "98  관악구 소재 직장(‘21년 3월(2)) 관련  <b class=''></b>  \n",
       "99                  감염경로 조사중  <b class=''></b>  \n",
       "\n",
       "[300 rows x 7 columns]"
      ]
     },
     "execution_count": 12,
     "metadata": {},
     "output_type": "execute_result"
    }
   ],
   "source": [
    "pd.concat(page_list)"
   ]
  },
  {
   "cell_type": "code",
   "execution_count": 13,
   "metadata": {},
   "outputs": [],
   "source": [
    "def get_multi_page1(start_page, end_page):\n",
    "    page_list1 = []\n",
    "    for page_no in trange(start_page, end_page + 1):\n",
    "        one_page = get_seoul_covid19_1(page_no)\n",
    "        if len(one_page['data']) > 0:\n",
    "            one_page = pd.DataFrame(one_page['data'])\n",
    "            page_list1.append(one_page)\n",
    "# 서버에 부담을 줄 수 잇기 때문에 시차를 둔다\n",
    "            time.sleep(0.5)\n",
    "        else:\n",
    "            return page_list1\n",
    "    return page_list1"
   ]
  },
  {
   "cell_type": "code",
   "execution_count": 14,
   "metadata": {},
   "outputs": [],
   "source": [
    "def get_multi_page2(start_page, end_page):\n",
    "    page_list2 = []\n",
    "    for page_no in trange(start_page, end_page + 1):\n",
    "        one_page = get_seoul_covid19_2(page_no)\n",
    "        if len(one_page['data']) > 0:\n",
    "            one_page = pd.DataFrame(one_page['data'])\n",
    "            page_list2.append(one_page)\n",
    "# 서버에 부담을 줄 수 잇기 때문에 시차를 둔다\n",
    "            time.sleep(0.5)\n",
    "        else:\n",
    "            return page_list2\n",
    "    return page_list2"
   ]
  },
  {
   "cell_type": "code",
   "execution_count": 15,
   "metadata": {
    "scrolled": true
   },
   "outputs": [
    {
     "name": "stderr",
     "output_type": "stream",
     "text": [
      "100%|████████████████████████████████████████████████████████████████████████████████| 200/200 [02:56<00:00,  1.13it/s]\n"
     ]
    }
   ],
   "source": [
    "page_list1 = get_multi_page1(start_page = 1, end_page = 200)"
   ]
  },
  {
   "cell_type": "code",
   "execution_count": 16,
   "metadata": {},
   "outputs": [
    {
     "name": "stderr",
     "output_type": "stream",
     "text": [
      " 99%|███████████████████████████████████████████████████████████████████████████████▎| 117/118 [01:44<00:00,  1.12it/s]\n"
     ]
    }
   ],
   "source": [
    "page_list2 = get_multi_page2(start_page = 1, end_page = 118)"
   ]
  },
  {
   "cell_type": "code",
   "execution_count": 17,
   "metadata": {},
   "outputs": [
    {
     "data": {
      "text/plain": [
       "(20000, 7)"
      ]
     },
     "execution_count": 17,
     "metadata": {},
     "output_type": "execute_result"
    }
   ],
   "source": [
    "df1 = pd.concat(page_list1)\n",
    "df1.shape"
   ]
  },
  {
   "cell_type": "code",
   "execution_count": 18,
   "metadata": {},
   "outputs": [
    {
     "data": {
      "text/plain": [
       "(11624, 7)"
      ]
     },
     "execution_count": 18,
     "metadata": {},
     "output_type": "execute_result"
    }
   ],
   "source": [
    "df2 = pd.concat(page_list2)\n",
    "df2.shape"
   ]
  },
  {
   "cell_type": "code",
   "execution_count": 28,
   "metadata": {},
   "outputs": [
    {
     "data": {
      "text/plain": [
       "(31624, 7)"
      ]
     },
     "execution_count": 28,
     "metadata": {},
     "output_type": "execute_result"
    }
   ],
   "source": [
    "df_all = pd.concat([df2,df1])\n",
    "df_all.shape"
   ]
  },
  {
   "cell_type": "code",
   "execution_count": 30,
   "metadata": {},
   "outputs": [
    {
     "data": {
      "text/html": [
       "<div>\n",
       "<style scoped>\n",
       "    .dataframe tbody tr th:only-of-type {\n",
       "        vertical-align: middle;\n",
       "    }\n",
       "\n",
       "    .dataframe tbody tr th {\n",
       "        vertical-align: top;\n",
       "    }\n",
       "\n",
       "    .dataframe thead th {\n",
       "        text-align: right;\n",
       "    }\n",
       "</style>\n",
       "<table border=\"1\" class=\"dataframe\">\n",
       "  <thead>\n",
       "    <tr style=\"text-align: right;\">\n",
       "      <th></th>\n",
       "      <th>0</th>\n",
       "      <th>1</th>\n",
       "      <th>2</th>\n",
       "      <th>3</th>\n",
       "      <th>4</th>\n",
       "      <th>5</th>\n",
       "      <th>6</th>\n",
       "    </tr>\n",
       "  </thead>\n",
       "  <tbody>\n",
       "    <tr>\n",
       "      <th>0</th>\n",
       "      <td>&lt;p class='corona19_no'&gt;31624&lt;/p&gt;</td>\n",
       "      <td>101749</td>\n",
       "      <td>2021-03-27</td>\n",
       "      <td>타시도</td>\n",
       "      <td>-</td>\n",
       "      <td>감염경로 조사중</td>\n",
       "      <td>&lt;b class=''&gt;&lt;/b&gt;</td>\n",
       "    </tr>\n",
       "    <tr>\n",
       "      <th>1</th>\n",
       "      <td>&lt;p class='corona19_no'&gt;31623&lt;/p&gt;</td>\n",
       "      <td>101745</td>\n",
       "      <td>2021-03-27</td>\n",
       "      <td>광진구</td>\n",
       "      <td>-</td>\n",
       "      <td>기타 확진자 접촉</td>\n",
       "      <td>&lt;b class=''&gt;&lt;/b&gt;</td>\n",
       "    </tr>\n",
       "    <tr>\n",
       "      <th>2</th>\n",
       "      <td>&lt;p class='corona19_no'&gt;31622&lt;/p&gt;</td>\n",
       "      <td>101744</td>\n",
       "      <td>2021-03-27</td>\n",
       "      <td>광진구</td>\n",
       "      <td>-</td>\n",
       "      <td>기타 확진자 접촉</td>\n",
       "      <td>&lt;b class=''&gt;&lt;/b&gt;</td>\n",
       "    </tr>\n",
       "    <tr>\n",
       "      <th>3</th>\n",
       "      <td>&lt;p class='corona19_no'&gt;31621&lt;/p&gt;</td>\n",
       "      <td>101725</td>\n",
       "      <td>2021-03-27</td>\n",
       "      <td>동작구</td>\n",
       "      <td>-</td>\n",
       "      <td>감염경로 조사중</td>\n",
       "      <td>&lt;b class=''&gt;&lt;/b&gt;</td>\n",
       "    </tr>\n",
       "    <tr>\n",
       "      <th>4</th>\n",
       "      <td>&lt;p class='corona19_no'&gt;31620&lt;/p&gt;</td>\n",
       "      <td>101727</td>\n",
       "      <td>2021-03-27</td>\n",
       "      <td>타시도</td>\n",
       "      <td>-</td>\n",
       "      <td>타시도 확진자 접촉</td>\n",
       "      <td>&lt;b class=''&gt;&lt;/b&gt;</td>\n",
       "    </tr>\n",
       "  </tbody>\n",
       "</table>\n",
       "</div>"
      ],
      "text/plain": [
       "                                  0       1           2    3  4           5  \\\n",
       "0  <p class='corona19_no'>31624</p>  101749  2021-03-27  타시도  -    감염경로 조사중   \n",
       "1  <p class='corona19_no'>31623</p>  101745  2021-03-27  광진구  -   기타 확진자 접촉   \n",
       "2  <p class='corona19_no'>31622</p>  101744  2021-03-27  광진구  -   기타 확진자 접촉   \n",
       "3  <p class='corona19_no'>31621</p>  101725  2021-03-27  동작구  -    감염경로 조사중   \n",
       "4  <p class='corona19_no'>31620</p>  101727  2021-03-27  타시도  -  타시도 확진자 접촉   \n",
       "\n",
       "                  6  \n",
       "0  <b class=''></b>  \n",
       "1  <b class=''></b>  \n",
       "2  <b class=''></b>  \n",
       "3  <b class=''></b>  \n",
       "4  <b class=''></b>  "
      ]
     },
     "execution_count": 30,
     "metadata": {},
     "output_type": "execute_result"
    }
   ],
   "source": [
    "df_all.head()"
   ]
  },
  {
   "cell_type": "markdown",
   "metadata": {},
   "source": [
    "# 데이터 전처리"
   ]
  },
  {
   "cell_type": "code",
   "execution_count": 32,
   "metadata": {},
   "outputs": [],
   "source": [
    "df_all.columns= ['연번', '환자', '확진일' ,'거주지', '여행력', '접촉력', '퇴원현황']"
   ]
  },
  {
   "cell_type": "code",
   "execution_count": 33,
   "metadata": {},
   "outputs": [
    {
     "data": {
      "text/html": [
       "<div>\n",
       "<style scoped>\n",
       "    .dataframe tbody tr th:only-of-type {\n",
       "        vertical-align: middle;\n",
       "    }\n",
       "\n",
       "    .dataframe tbody tr th {\n",
       "        vertical-align: top;\n",
       "    }\n",
       "\n",
       "    .dataframe thead th {\n",
       "        text-align: right;\n",
       "    }\n",
       "</style>\n",
       "<table border=\"1\" class=\"dataframe\">\n",
       "  <thead>\n",
       "    <tr style=\"text-align: right;\">\n",
       "      <th></th>\n",
       "      <th>연번</th>\n",
       "      <th>환자</th>\n",
       "      <th>확진일</th>\n",
       "      <th>거주지</th>\n",
       "      <th>여행력</th>\n",
       "      <th>접촉력</th>\n",
       "      <th>퇴원현황</th>\n",
       "    </tr>\n",
       "  </thead>\n",
       "  <tbody>\n",
       "    <tr>\n",
       "      <th>0</th>\n",
       "      <td>&lt;p class='corona19_no'&gt;31624&lt;/p&gt;</td>\n",
       "      <td>101749</td>\n",
       "      <td>2021-03-27</td>\n",
       "      <td>타시도</td>\n",
       "      <td>-</td>\n",
       "      <td>감염경로 조사중</td>\n",
       "      <td>&lt;b class=''&gt;&lt;/b&gt;</td>\n",
       "    </tr>\n",
       "    <tr>\n",
       "      <th>1</th>\n",
       "      <td>&lt;p class='corona19_no'&gt;31623&lt;/p&gt;</td>\n",
       "      <td>101745</td>\n",
       "      <td>2021-03-27</td>\n",
       "      <td>광진구</td>\n",
       "      <td>-</td>\n",
       "      <td>기타 확진자 접촉</td>\n",
       "      <td>&lt;b class=''&gt;&lt;/b&gt;</td>\n",
       "    </tr>\n",
       "    <tr>\n",
       "      <th>2</th>\n",
       "      <td>&lt;p class='corona19_no'&gt;31622&lt;/p&gt;</td>\n",
       "      <td>101744</td>\n",
       "      <td>2021-03-27</td>\n",
       "      <td>광진구</td>\n",
       "      <td>-</td>\n",
       "      <td>기타 확진자 접촉</td>\n",
       "      <td>&lt;b class=''&gt;&lt;/b&gt;</td>\n",
       "    </tr>\n",
       "    <tr>\n",
       "      <th>3</th>\n",
       "      <td>&lt;p class='corona19_no'&gt;31621&lt;/p&gt;</td>\n",
       "      <td>101725</td>\n",
       "      <td>2021-03-27</td>\n",
       "      <td>동작구</td>\n",
       "      <td>-</td>\n",
       "      <td>감염경로 조사중</td>\n",
       "      <td>&lt;b class=''&gt;&lt;/b&gt;</td>\n",
       "    </tr>\n",
       "    <tr>\n",
       "      <th>4</th>\n",
       "      <td>&lt;p class='corona19_no'&gt;31620&lt;/p&gt;</td>\n",
       "      <td>101727</td>\n",
       "      <td>2021-03-27</td>\n",
       "      <td>타시도</td>\n",
       "      <td>-</td>\n",
       "      <td>타시도 확진자 접촉</td>\n",
       "      <td>&lt;b class=''&gt;&lt;/b&gt;</td>\n",
       "    </tr>\n",
       "  </tbody>\n",
       "</table>\n",
       "</div>"
      ],
      "text/plain": [
       "                                 연번      환자         확진일  거주지 여행력         접촉력  \\\n",
       "0  <p class='corona19_no'>31624</p>  101749  2021-03-27  타시도   -    감염경로 조사중   \n",
       "1  <p class='corona19_no'>31623</p>  101745  2021-03-27  광진구   -   기타 확진자 접촉   \n",
       "2  <p class='corona19_no'>31622</p>  101744  2021-03-27  광진구   -   기타 확진자 접촉   \n",
       "3  <p class='corona19_no'>31621</p>  101725  2021-03-27  동작구   -    감염경로 조사중   \n",
       "4  <p class='corona19_no'>31620</p>  101727  2021-03-27  타시도   -  타시도 확진자 접촉   \n",
       "\n",
       "               퇴원현황  \n",
       "0  <b class=''></b>  \n",
       "1  <b class=''></b>  \n",
       "2  <b class=''></b>  \n",
       "3  <b class=''></b>  \n",
       "4  <b class=''></b>  "
      ]
     },
     "execution_count": 33,
     "metadata": {},
     "output_type": "execute_result"
    }
   ],
   "source": [
    "df_all.head()"
   ]
  },
  {
   "cell_type": "code",
   "execution_count": 34,
   "metadata": {},
   "outputs": [],
   "source": [
    "import re\n",
    "def extract_number(num_string):\n",
    "    if type(num_string) == str:\n",
    "        num_string = num_string.replace(\"corona19\", \"\")\n",
    "        num = re.sub(\"[^0-9]\",\"\", num_string)\n",
    "        num = int(num)\n",
    "        return num\n",
    "    else:\n",
    "        return num_string"
   ]
  },
  {
   "cell_type": "code",
   "execution_count": 36,
   "metadata": {},
   "outputs": [],
   "source": [
    "def extract_hangeul(origin_text):\n",
    "    subtract_text = re.sub(\"[^가-힣]\",\"\", origin_text)\n",
    "    return subtract_text"
   ]
  },
  {
   "cell_type": "code",
   "execution_count": 35,
   "metadata": {},
   "outputs": [],
   "source": [
    "df_all['연번'] = df_all['연번'].map(extract_number)"
   ]
  },
  {
   "cell_type": "code",
   "execution_count": 37,
   "metadata": {},
   "outputs": [],
   "source": [
    "df_all['퇴원현황'] = df_all['퇴원현황'].map(extract_hangeul)"
   ]
  },
  {
   "cell_type": "code",
   "execution_count": 41,
   "metadata": {},
   "outputs": [
    {
     "data": {
      "text/plain": [
       "array(['', '사망', '퇴원'], dtype=object)"
      ]
     },
     "execution_count": 41,
     "metadata": {},
     "output_type": "execute_result"
    }
   ],
   "source": [
    "df_all['퇴원현황'].unique()"
   ]
  },
  {
   "cell_type": "markdown",
   "metadata": {},
   "source": [
    "# 파일 저장"
   ]
  },
  {
   "cell_type": "code",
   "execution_count": 42,
   "metadata": {},
   "outputs": [
    {
     "data": {
      "text/plain": [
       "'seoul_covid19.csv'"
      ]
     },
     "execution_count": 42,
     "metadata": {},
     "output_type": "execute_result"
    }
   ],
   "source": [
    "file_name = \"seoul_covid19.csv\"\n",
    "file_name"
   ]
  },
  {
   "cell_type": "code",
   "execution_count": 43,
   "metadata": {},
   "outputs": [],
   "source": [
    "df_all.to_csv(file_name, index=False)"
   ]
  },
  {
   "cell_type": "code",
   "execution_count": 44,
   "metadata": {},
   "outputs": [
    {
     "data": {
      "text/html": [
       "<div>\n",
       "<style scoped>\n",
       "    .dataframe tbody tr th:only-of-type {\n",
       "        vertical-align: middle;\n",
       "    }\n",
       "\n",
       "    .dataframe tbody tr th {\n",
       "        vertical-align: top;\n",
       "    }\n",
       "\n",
       "    .dataframe thead th {\n",
       "        text-align: right;\n",
       "    }\n",
       "</style>\n",
       "<table border=\"1\" class=\"dataframe\">\n",
       "  <thead>\n",
       "    <tr style=\"text-align: right;\">\n",
       "      <th></th>\n",
       "      <th>연번</th>\n",
       "      <th>환자</th>\n",
       "      <th>확진일</th>\n",
       "      <th>거주지</th>\n",
       "      <th>여행력</th>\n",
       "      <th>접촉력</th>\n",
       "      <th>퇴원현황</th>\n",
       "    </tr>\n",
       "  </thead>\n",
       "  <tbody>\n",
       "    <tr>\n",
       "      <th>0</th>\n",
       "      <td>31624</td>\n",
       "      <td>101749</td>\n",
       "      <td>2021-03-27</td>\n",
       "      <td>타시도</td>\n",
       "      <td>-</td>\n",
       "      <td>감염경로 조사중</td>\n",
       "      <td>NaN</td>\n",
       "    </tr>\n",
       "    <tr>\n",
       "      <th>1</th>\n",
       "      <td>31623</td>\n",
       "      <td>101745</td>\n",
       "      <td>2021-03-27</td>\n",
       "      <td>광진구</td>\n",
       "      <td>-</td>\n",
       "      <td>기타 확진자 접촉</td>\n",
       "      <td>NaN</td>\n",
       "    </tr>\n",
       "    <tr>\n",
       "      <th>2</th>\n",
       "      <td>31622</td>\n",
       "      <td>101744</td>\n",
       "      <td>2021-03-27</td>\n",
       "      <td>광진구</td>\n",
       "      <td>-</td>\n",
       "      <td>기타 확진자 접촉</td>\n",
       "      <td>NaN</td>\n",
       "    </tr>\n",
       "    <tr>\n",
       "      <th>3</th>\n",
       "      <td>31621</td>\n",
       "      <td>101725</td>\n",
       "      <td>2021-03-27</td>\n",
       "      <td>동작구</td>\n",
       "      <td>-</td>\n",
       "      <td>감염경로 조사중</td>\n",
       "      <td>NaN</td>\n",
       "    </tr>\n",
       "    <tr>\n",
       "      <th>4</th>\n",
       "      <td>31620</td>\n",
       "      <td>101727</td>\n",
       "      <td>2021-03-27</td>\n",
       "      <td>타시도</td>\n",
       "      <td>-</td>\n",
       "      <td>타시도 확진자 접촉</td>\n",
       "      <td>NaN</td>\n",
       "    </tr>\n",
       "    <tr>\n",
       "      <th>...</th>\n",
       "      <td>...</td>\n",
       "      <td>...</td>\n",
       "      <td>...</td>\n",
       "      <td>...</td>\n",
       "      <td>...</td>\n",
       "      <td>...</td>\n",
       "      <td>...</td>\n",
       "    </tr>\n",
       "    <tr>\n",
       "      <th>31619</th>\n",
       "      <td>5</td>\n",
       "      <td>9</td>\n",
       "      <td>2020-01-31</td>\n",
       "      <td>성북구</td>\n",
       "      <td>-</td>\n",
       "      <td>기타 확진자 접촉</td>\n",
       "      <td>퇴원</td>\n",
       "    </tr>\n",
       "    <tr>\n",
       "      <th>31620</th>\n",
       "      <td>4</td>\n",
       "      <td>7</td>\n",
       "      <td>2020-01-30</td>\n",
       "      <td>마포구</td>\n",
       "      <td>중국</td>\n",
       "      <td>해외유입</td>\n",
       "      <td>퇴원</td>\n",
       "    </tr>\n",
       "    <tr>\n",
       "      <th>31621</th>\n",
       "      <td>3</td>\n",
       "      <td>6</td>\n",
       "      <td>2020-01-30</td>\n",
       "      <td>종로구</td>\n",
       "      <td>-</td>\n",
       "      <td>종로구 집단발병</td>\n",
       "      <td>퇴원</td>\n",
       "    </tr>\n",
       "    <tr>\n",
       "      <th>31622</th>\n",
       "      <td>2</td>\n",
       "      <td>5</td>\n",
       "      <td>2020-01-30</td>\n",
       "      <td>중랑구</td>\n",
       "      <td>중국</td>\n",
       "      <td>해외유입</td>\n",
       "      <td>퇴원</td>\n",
       "    </tr>\n",
       "    <tr>\n",
       "      <th>31623</th>\n",
       "      <td>1</td>\n",
       "      <td>2</td>\n",
       "      <td>2020-01-24</td>\n",
       "      <td>강서구</td>\n",
       "      <td>중국</td>\n",
       "      <td>해외유입</td>\n",
       "      <td>퇴원</td>\n",
       "    </tr>\n",
       "  </tbody>\n",
       "</table>\n",
       "<p>31624 rows × 7 columns</p>\n",
       "</div>"
      ],
      "text/plain": [
       "          연번      환자         확진일  거주지 여행력         접촉력 퇴원현황\n",
       "0      31624  101749  2021-03-27  타시도   -    감염경로 조사중  NaN\n",
       "1      31623  101745  2021-03-27  광진구   -   기타 확진자 접촉  NaN\n",
       "2      31622  101744  2021-03-27  광진구   -   기타 확진자 접촉  NaN\n",
       "3      31621  101725  2021-03-27  동작구   -    감염경로 조사중  NaN\n",
       "4      31620  101727  2021-03-27  타시도   -  타시도 확진자 접촉  NaN\n",
       "...      ...     ...         ...  ...  ..         ...  ...\n",
       "31619      5       9  2020-01-31  성북구   -   기타 확진자 접촉   퇴원\n",
       "31620      4       7  2020-01-30  마포구  중국        해외유입   퇴원\n",
       "31621      3       6  2020-01-30  종로구   -    종로구 집단발병   퇴원\n",
       "31622      2       5  2020-01-30  중랑구  중국        해외유입   퇴원\n",
       "31623      1       2  2020-01-24  강서구  중국        해외유입   퇴원\n",
       "\n",
       "[31624 rows x 7 columns]"
      ]
     },
     "execution_count": 44,
     "metadata": {},
     "output_type": "execute_result"
    }
   ],
   "source": [
    "pd.read_csv(file_name)"
   ]
  }
 ],
 "metadata": {
  "kernelspec": {
   "display_name": "Python 3",
   "language": "python",
   "name": "python3"
  },
  "language_info": {
   "codemirror_mode": {
    "name": "ipython",
    "version": 3
   },
   "file_extension": ".py",
   "mimetype": "text/x-python",
   "name": "python",
   "nbconvert_exporter": "python",
   "pygments_lexer": "ipython3",
   "version": "3.8.5"
  }
 },
 "nbformat": 4,
 "nbformat_minor": 4
}
